{
 "cells": [
  {
   "cell_type": "code",
   "execution_count": null,
   "metadata": {
    "dotnet_interactive": {
     "language": "csharp"
    },
    "polyglot_notebook": {
     "kernelName": "csharp"
    }
   },
   "outputs": [],
   "source": [
    "#r \"nuget:dotnetrdf\""
   ]
  },
  {
   "cell_type": "code",
   "execution_count": null,
   "metadata": {},
   "outputs": [],
   "source": [
    "using VDS.RDF;\n",
    "using VDS.RDF.Parsing;\n",
    "using VDS.RDF.Writing;\n",
    "using VDS.RDF.Writing.Formatting;"
   ]
  },
  {
   "cell_type": "code",
   "execution_count": null,
   "metadata": {},
   "outputs": [],
   "source": [
    "var nquads = \"<http://example.com/subject> <http://example.com/predicate> <http://example.com/object> _:b0 .\";\n",
    "var trig = \"@prefix ex: <http://example.com/> . _:b0 { ex:subject ex:predicate ex:object . }\";\n",
    "var turtle = \"@prefix ex: <http://example.com/> . ex:subject ex:predicate ex:object .\";\n",
    "var jsonld = \"[ { \\\"@id\\\": \\\"_:b0\\\", \\\"@graph\\\": [ { \\\"@id\\\": \\\"http://example.com/subject\\\", \\\"http://example.com/predicate\\\": [ { \\\"@id\\\": \\\"http://example.com/object\\\" } ] } ] } ]\";\n",
    "var store = new TripleStore();"
   ]
  },
  {
   "cell_type": "code",
   "execution_count": null,
   "metadata": {},
   "outputs": [],
   "source": [
    "// Load from string\n",
    "store.LoadFromString(trig, new TriGParser(TriGSyntax.Rdf11));"
   ]
  },
  {
   "cell_type": "code",
   "execution_count": null,
   "metadata": {},
   "outputs": [],
   "source": [
    "// Assert quad to store\n",
    "store.Assert(new Quad(\n",
    "    new BlankNode(\"_hei\"),\n",
    "    new UriNode(new Uri(\"http://example.com/predicate\")),\n",
    "    new UriNode(new Uri(\"http://example.com/object\")),\n",
    "    new BlankNode(\"heirolld\")\n",
    "));"
   ]
  },
  {
   "cell_type": "code",
   "execution_count": null,
   "metadata": {},
   "outputs": [],
   "source": [
    "// Assert triple to default graph\n",
    "store.Graphs.First().Assert(new Triple(\n",
    "    new UriNode(new Uri(\"http://example.com/subject2\")),\n",
    "    new UriNode(new Uri(\"http://example.com/predicate2\")),\n",
    "    new UriNode(new Uri(\"http://example.com/object2\"))\n",
    "));"
   ]
  },
  {
   "cell_type": "code",
   "execution_count": null,
   "metadata": {},
   "outputs": [],
   "source": [
    "var writer = new NQuadsWriter(NQuadsSyntax.Original);\n",
    "var stringWriter = new System.IO.StringWriter();\n",
    "writer.Save(store, stringWriter);\n",
    "\n",
    "var result = stringWriter.ToString();\n",
    "Console.WriteLine(result);"
   ]
  }
 ],
 "metadata": {
  "kernelspec": {
   "display_name": ".NET (C#)",
   "language": "C#",
   "name": ".net-csharp"
  },
  "polyglot_notebook": {
   "kernelInfo": {
    "defaultKernelName": "csharp",
    "items": [
     {
      "aliases": [],
      "languageName": "csharp",
      "name": "csharp"
     }
    ]
   }
  }
 },
 "nbformat": 4,
 "nbformat_minor": 2
}
