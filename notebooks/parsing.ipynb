{
 "cells": [
  {
   "cell_type": "code",
   "execution_count": null,
   "metadata": {
    "dotnet_interactive": {
     "language": "csharp"
    },
    "polyglot_notebook": {
     "kernelName": "csharp"
    }
   },
   "outputs": [],
   "source": [
    "#r \"nuget:dotnetrdf\""
   ]
  },
  {
   "cell_type": "code",
   "execution_count": null,
   "metadata": {},
   "outputs": [],
   "source": [
    "using VDS.RDF;\n",
    "using VDS.RDF.Parsing;\n",
    "using VDS.RDF.Writing;\n",
    "using VDS.RDF.Writing.Formatting;"
   ]
  },
  {
   "cell_type": "code",
   "execution_count": null,
   "metadata": {},
   "outputs": [],
   "source": [
    "var nquads = \"<http://example.com/subject> <http://example.com/predicate> <http://example.com/object> _:b0 .\";\n",
    "var trig = \"@prefix ex: <http://example.com/> . _:b0 { ex:subject ex:predicate ex:object . }\";\n",
    "var jsonld = \"[ { \\\"@id\\\": \\\"_:b0\\\", \\\"@graph\\\": [ { \\\"@id\\\": \\\"http://example.com/subject\\\", \\\"http://example.com/predicate\\\": [ { \\\"@id\\\": \\\"http://example.com/object\\\" } ] } ] } ]\";"
   ]
  },
  {
   "cell_type": "code",
   "execution_count": null,
   "metadata": {},
   "outputs": [],
   "source": [
    "var store = new TripleStore();\n",
    "store.LoadFromString(nquads);"
   ]
  },
  {
   "cell_type": "code",
   "execution_count": null,
   "metadata": {},
   "outputs": [],
   "source": [
    "var writer = new NQuadsWriter();\n",
    "var stringWriter = new System.IO.StringWriter();\n",
    "writer.Save(store, stringWriter);\n",
    "\n",
    "var result = stringWriter.ToString();\n",
    "Console.WriteLine(result);"
   ]
  }
 ],
 "metadata": {
  "kernelspec": {
   "display_name": ".NET (C#)",
   "language": "C#",
   "name": ".net-csharp"
  },
  "polyglot_notebook": {
   "kernelInfo": {
    "defaultKernelName": "csharp",
    "items": [
     {
      "aliases": [],
      "languageName": "csharp",
      "name": "csharp"
     }
    ]
   }
  }
 },
 "nbformat": 4,
 "nbformat_minor": 2
}
